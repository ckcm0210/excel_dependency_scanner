{
 "cells": [
  {
   "cell_type": "code",
   "execution_count": 1,
   "id": "6b80d69b-fd11-4ac8-a08e-2ce456dfbd0e",
   "metadata": {},
   "outputs": [],
   "source": [
    "%run dependency_scanner.py"
   ]
  },
  {
   "cell_type": "code",
   "execution_count": null,
   "id": "76bff120-5916-403c-8221-9b80765a6b2b",
   "metadata": {},
   "outputs": [],
   "source": []
  }
 ],
 "metadata": {
  "kernelspec": {
   "display_name": "Python [conda env:base] *",
   "language": "python",
   "name": "conda-base-py"
  },
  "language_info": {
   "codemirror_mode": {
    "name": "ipython",
    "version": 3
   },
   "file_extension": ".py",
   "mimetype": "text/x-python",
   "name": "python",
   "nbconvert_exporter": "python",
   "pygments_lexer": "ipython3",
   "version": "3.12.7"
  }
 },
 "nbformat": 4,
 "nbformat_minor": 5
}
